{
 "cells": [
  {
   "cell_type": "markdown",
   "id": "ecological-width",
   "metadata": {},
   "source": [
    "# Path setup & import packages"
   ]
  },
  {
   "cell_type": "code",
   "execution_count": 1,
   "id": "subtle-polymer",
   "metadata": {},
   "outputs": [],
   "source": [
    "import pandas as pd\n",
    "%load_ext autoreload\n",
    "%autoreload 2\n",
    "import sys\n",
    "import os\n",
    "root_path = '../../../' # path to project root\n",
    "sys.path.append('{}/code'.format(root_path))\n",
    "sys.path.append('{}/code/core'.format(root_path))\n",
    "sys.path.append('{}/code/datasets/'.format(root_path))\n",
    "sys.path.insert(0,'{}/code/ptranking'.format(root_path))\n",
    "\n",
    "from core.ranking_utils import *\n",
    "from core.mallows import *\n",
    "from core.ws_ranking import *\n",
    "from core.ws_real_workflow import * \n",
    "from core.ws_regression import *\n",
    "from datasets.imdb_tmdb_dataset import * \n",
    "from datasets.basic_clmn_dataset import * \n",
    "from core.labelling.feature_lf import *\n",
    "from ptranking_wrapper import PtrankingWrapper\n",
    "from sklearn.model_selection import train_test_split\n",
    "from sklearn.linear_model import LinearRegression\n",
    "from sklearn.ensemble import GradientBoostingRegressor\n",
    "from sklearn.preprocessing import StandardScaler\n",
    "from sklearn.pipeline import Pipeline\n",
    "from sklearn.metrics import mean_squared_error\n",
    "import datasets_factory \n",
    "import numpy as np \n",
    "import yaml\n",
    "import matplotlib.pyplot as plt\n",
    "import pickle\n",
    "import copy\n",
    "import scipy.stats as ss\n",
    "from sklearn.pipeline import Pipeline\n",
    "from sklearn.preprocessing import PolynomialFeatures, OneHotEncoder\n",
    "seed = 42\n",
    "feature_drop_cols = ['vote_average', 'imdb_rating', 'tomato_user_rating', 'mv_lens_avg_rating',\n",
    "                     'movieId','tmdbId']\n",
    "label_feature = 'vote_average'"
   ]
  },
  {
   "cell_type": "code",
   "execution_count": 2,
   "id": "forced-chick",
   "metadata": {},
   "outputs": [
    {
     "name": "stdout",
     "output_type": "stream",
     "text": [
      "MSE 1.0035305662338386e+25\n"
     ]
    }
   ],
   "source": [
    "# read data\n",
    "df = pd.read_csv(os.path.join(root_path, 'data',\n",
    "                              'imdb-tmdb', 'processed_mvlens_tmdb_imdb_tomato.csv')).fillna(0)\n",
    "\n",
    "X, Y = df.drop(feature_drop_cols, axis=1), df[label_feature]\n",
    "\n",
    "# split data\n",
    "train_fraction = 0.75\n",
    "# # split data\n",
    "indices_train, indices_test = train_test_split(list(range(len(Y))), train_size=train_fraction, random_state=seed)\n",
    "X_train = X.iloc[indices_train]\n",
    "Y_train = Y[indices_train]\n",
    "X_test = X.iloc[indices_test]\n",
    "Y_test = Y[indices_test]\n",
    "\n",
    "# model declaration and fit\n",
    "model = Pipeline([\n",
    "    (\"std\", StandardScaler()),\n",
    "    (\"model\", LinearRegression())\n",
    "])\n",
    "model.fit(X_train, Y_train)\n",
    "Y_test_pred = model.predict(X_test)\n",
    "true_mse = mean_squared_error(Y_test, Y_test_pred)\n",
    "print('MSE', true_mse)"
   ]
  },
  {
   "cell_type": "code",
   "execution_count": 3,
   "id": "developmental-pattern",
   "metadata": {},
   "outputs": [
    {
     "data": {
      "text/plain": [
       "1615    0.499997\n",
       "73      0.033488\n",
       "3467    0.237081\n",
       "48      0.115353\n",
       "932     0.090182\n",
       "          ...   \n",
       "1130    0.083996\n",
       "1294    1.498148\n",
       "860     0.927764\n",
       "3507    0.311747\n",
       "3174    1.583382\n",
       "Name: vote_average, Length: 2793, dtype: float64"
      ]
     },
     "execution_count": 3,
     "metadata": {},
     "output_type": "execute_result"
    }
   ],
   "source": [
    "residual = np.abs(model.predict(X_train) - Y_train)\n",
    "residual"
   ]
  },
  {
   "cell_type": "code",
   "execution_count": 4,
   "id": "worth-monster",
   "metadata": {},
   "outputs": [],
   "source": [
    "df_result = pd.DataFrame()\n",
    "\n",
    "for seed in range(10):\n",
    "    for p in [0.001, 0.005, 0.01, 0.05, 0.1, 0.25]:\n",
    "        sample_percent = p * 100\n",
    "        q = 1-p\n",
    "        bad_indices = residual >= residual.quantile(q)\n",
    "        X_train_bad = X_train[bad_indices]\n",
    "        Y_train_bad = Y_train[bad_indices]\n",
    "\n",
    "        # model declaration and fit\n",
    "        model = Pipeline([\n",
    "            (\"std\", StandardScaler()),\n",
    "            (\"model\", GradientBoostingRegressor(n_estimators=250, random_state=seed)),\n",
    "        ])\n",
    "        model.fit(X_train_bad, Y_train_bad)\n",
    "\n",
    "        # result visualization\n",
    "        Y_test_pred = model.predict(X_test)\n",
    "        mse = mean_squared_error(Y_test, Y_test_pred)\n",
    "        df_result = df_result.append({\n",
    "            'seed': seed,\n",
    "            'sample_percent': sample_percent,\n",
    "            'mse': mse\n",
    "        }, ignore_index=True\n",
    "        )"
   ]
  },
  {
   "cell_type": "code",
   "execution_count": 5,
   "id": "successful-egyptian",
   "metadata": {},
   "outputs": [
    {
     "data": {
      "text/html": [
       "<div>\n",
       "<style scoped>\n",
       "    .dataframe tbody tr th:only-of-type {\n",
       "        vertical-align: middle;\n",
       "    }\n",
       "\n",
       "    .dataframe tbody tr th {\n",
       "        vertical-align: top;\n",
       "    }\n",
       "\n",
       "    .dataframe thead th {\n",
       "        text-align: right;\n",
       "    }\n",
       "</style>\n",
       "<table border=\"1\" class=\"dataframe\">\n",
       "  <thead>\n",
       "    <tr style=\"text-align: right;\">\n",
       "      <th></th>\n",
       "      <th>mean</th>\n",
       "      <th>std</th>\n",
       "    </tr>\n",
       "    <tr>\n",
       "      <th>sample_percent</th>\n",
       "      <th></th>\n",
       "      <th></th>\n",
       "    </tr>\n",
       "  </thead>\n",
       "  <tbody>\n",
       "    <tr>\n",
       "      <th>0.1</th>\n",
       "      <td>11.106830</td>\n",
       "      <td>0.270479</td>\n",
       "    </tr>\n",
       "    <tr>\n",
       "      <th>0.5</th>\n",
       "      <td>8.628396</td>\n",
       "      <td>0.151197</td>\n",
       "    </tr>\n",
       "    <tr>\n",
       "      <th>1.0</th>\n",
       "      <td>3.435194</td>\n",
       "      <td>0.045105</td>\n",
       "    </tr>\n",
       "    <tr>\n",
       "      <th>5.0</th>\n",
       "      <td>1.077586</td>\n",
       "      <td>0.009287</td>\n",
       "    </tr>\n",
       "    <tr>\n",
       "      <th>10.0</th>\n",
       "      <td>0.611619</td>\n",
       "      <td>0.002301</td>\n",
       "    </tr>\n",
       "    <tr>\n",
       "      <th>25.0</th>\n",
       "      <td>0.340487</td>\n",
       "      <td>0.001266</td>\n",
       "    </tr>\n",
       "  </tbody>\n",
       "</table>\n",
       "</div>"
      ],
      "text/plain": [
       "                     mean       std\n",
       "sample_percent                     \n",
       "0.1             11.106830  0.270479\n",
       "0.5              8.628396  0.151197\n",
       "1.0              3.435194  0.045105\n",
       "5.0              1.077586  0.009287\n",
       "10.0             0.611619  0.002301\n",
       "25.0             0.340487  0.001266"
      ]
     },
     "execution_count": 5,
     "metadata": {},
     "output_type": "execute_result"
    }
   ],
   "source": [
    "df_result.groupby('sample_percent').agg(['mean', 'std'])['mse']"
   ]
  },
  {
   "cell_type": "code",
   "execution_count": 6,
   "id": "excited-authority",
   "metadata": {},
   "outputs": [],
   "source": [
    "df_result.groupby('sample_percent').agg(['mean', 'std'])['mse'].to_csv('badsubset_extended.csv')"
   ]
  },
  {
   "cell_type": "code",
   "execution_count": null,
   "id": "cordless-purchase",
   "metadata": {},
   "outputs": [],
   "source": []
  },
  {
   "cell_type": "code",
   "execution_count": null,
   "id": "completed-survival",
   "metadata": {},
   "outputs": [],
   "source": []
  }
 ],
 "metadata": {
  "kernelspec": {
   "display_name": "ws-cardinality",
   "language": "python",
   "name": "ws-cardinality"
  },
  "language_info": {
   "codemirror_mode": {
    "name": "ipython",
    "version": 3
   },
   "file_extension": ".py",
   "mimetype": "text/x-python",
   "name": "python",
   "nbconvert_exporter": "python",
   "pygments_lexer": "ipython3",
   "version": "3.6.8"
  }
 },
 "nbformat": 4,
 "nbformat_minor": 5
}
