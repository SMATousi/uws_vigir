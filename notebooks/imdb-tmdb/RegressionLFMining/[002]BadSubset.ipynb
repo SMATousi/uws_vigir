{
 "cells": [
  {
   "cell_type": "markdown",
   "id": "ecological-width",
   "metadata": {},
   "source": [
    "# Path setup & import packages"
   ]
  },
  {
   "cell_type": "code",
   "execution_count": 5,
   "id": "subtle-polymer",
   "metadata": {},
   "outputs": [
    {
     "name": "stdout",
     "output_type": "stream",
     "text": [
      "The autoreload extension is already loaded. To reload it, use:\n",
      "  %reload_ext autoreload\n"
     ]
    }
   ],
   "source": [
    "import pandas as pd\n",
    "%load_ext autoreload\n",
    "%autoreload 2\n",
    "import sys\n",
    "import os\n",
    "root_path = '../../../' # path to project root\n",
    "sys.path.append('{}/code'.format(root_path))\n",
    "sys.path.append('{}/code/core'.format(root_path))\n",
    "sys.path.append('{}/code/datasets/'.format(root_path))\n",
    "sys.path.insert(0,'{}/code/ptranking'.format(root_path))\n",
    "\n",
    "from core.ranking_utils import *\n",
    "from core.mallows import *\n",
    "from core.ws_ranking import *\n",
    "from core.ws_real_workflow import * \n",
    "from core.ws_regression import *\n",
    "from datasets.imdb_tmdb_dataset import * \n",
    "from datasets.basic_clmn_dataset import * \n",
    "from core.labelling.feature_lf import *\n",
    "from ptranking_wrapper import PtrankingWrapper\n",
    "from sklearn.model_selection import train_test_split\n",
    "from sklearn.linear_model import LinearRegression\n",
    "from sklearn.ensemble import GradientBoostingRegressor\n",
    "from sklearn.preprocessing import StandardScaler\n",
    "from sklearn.pipeline import Pipeline\n",
    "from sklearn.metrics import mean_squared_error\n",
    "import datasets_factory \n",
    "import numpy as np \n",
    "import yaml\n",
    "import matplotlib.pyplot as plt\n",
    "import pickle\n",
    "import copy\n",
    "import scipy.stats as ss\n",
    "from sklearn.pipeline import Pipeline\n",
    "from sklearn.preprocessing import PolynomialFeatures, OneHotEncoder\n",
    "seed = 42\n",
    "feature_drop_cols = ['vote_average', 'imdbId', 'movieId','tmdbId']\n",
    "label_feature = 'vote_average'"
   ]
  },
  {
   "cell_type": "code",
   "execution_count": 13,
   "id": "forced-chick",
   "metadata": {},
   "outputs": [
    {
     "name": "stdout",
     "output_type": "stream",
     "text": [
      "MSE 2.294897251969756e+22\n"
     ]
    }
   ],
   "source": [
    "# read data\n",
    "df = pd.read_csv(os.path.join(root_path, 'data',\n",
    "                              'imdb-tmdb', 'merged_imdb_tmdb_with_additional_features.csv')).fillna(0)\n",
    "\n",
    "X, Y = df.drop(feature_drop_cols, axis=1), df[label_feature]\n",
    "\n",
    "# split data\n",
    "train_fraction = 0.75\n",
    "# # split data\n",
    "indices_train, indices_test = train_test_split(list(range(len(Y))), train_size=train_fraction, random_state=seed)\n",
    "X_train = X.iloc[indices_train]\n",
    "Y_train = Y[indices_train]\n",
    "X_test = X.iloc[indices_test]\n",
    "Y_test = Y[indices_test]\n",
    "\n",
    "# model declaration and fit\n",
    "model = Pipeline([\n",
    "    (\"std\", StandardScaler()),\n",
    "    (\"model\", LinearRegression())\n",
    "])\n",
    "model.fit(X_train, Y_train)\n",
    "Y_test_pred = model.predict(X_test)\n",
    "true_mse = mean_squared_error(Y_test, Y_test_pred)\n",
    "print('MSE', true_mse)"
   ]
  },
  {
   "cell_type": "code",
   "execution_count": 14,
   "id": "collaborative-headline",
   "metadata": {},
   "outputs": [
    {
     "data": {
      "text/plain": [
       "[<matplotlib.lines.Line2D at 0x7fc8d967ed68>]"
      ]
     },
     "execution_count": 14,
     "metadata": {},
     "output_type": "execute_result"
    },
    {
     "data": {
      "image/png": "[encoded data removed]",
      "text/plain": [
       "<Figure size 432x288 with 1 Axes>"
      ]
     },
     "metadata": {
      "needs_background": "light"
     },
     "output_type": "display_data"
    }
   ],
   "source": [
    "plt.plot(Y_test_pred)"
   ]
  },
  {
   "cell_type": "code",
   "execution_count": 15,
   "id": "developmental-pattern",
   "metadata": {},
   "outputs": [
    {
     "data": {
      "text/plain": [
       "3771    0.060972\n",
       "1612    0.759433\n",
       "353     0.170353\n",
       "4012    0.227177\n",
       "2689    1.324300\n",
       "          ...   \n",
       "4426    0.088707\n",
       "466     0.664639\n",
       "3092    0.418851\n",
       "3772    0.175820\n",
       "860     0.752871\n",
       "Name: vote_average, Length: 3507, dtype: float64"
      ]
     },
     "execution_count": 15,
     "metadata": {},
     "output_type": "execute_result"
    }
   ],
   "source": [
    "residual = np.abs(model.predict(X_train) - Y_train)\n",
    "residual"
   ]
  },
  {
   "cell_type": "code",
   "execution_count": 20,
   "id": "worth-monster",
   "metadata": {},
   "outputs": [],
   "source": [
    "df_result = pd.DataFrame()\n",
    "\n",
    "for seed in range(10):\n",
    "    for p in [0.001, 0.005, 0.01, 0.05, 0.1, 0.25]:\n",
    "        sample_percent = p * 100\n",
    "        q = 1-p\n",
    "        bad_indices = residual >= residual.quantile(q)\n",
    "        X_train_bad = X_train[bad_indices]\n",
    "        Y_train_bad = Y_train[bad_indices]\n",
    "\n",
    "        # model declaration and fit\n",
    "        model = Pipeline([\n",
    "            (\"std\", StandardScaler()),\n",
    "            (\"model\", GradientBoostingRegressor(n_estimators=250, random_state=seed)),\n",
    "        ])\n",
    "        model.fit(X_train_bad, Y_train_bad)\n",
    "\n",
    "        # result visualization\n",
    "        Y_test_pred = model.predict(X_test)\n",
    "        mse = mean_squared_error(Y_test, Y_test_pred)\n",
    "        df_result = df_result.append({\n",
    "            'seed': seed,\n",
    "            'sample_percent': sample_percent,\n",
    "            'mse': mse\n",
    "        }, ignore_index=True\n",
    "        )"
   ]
  },
  {
   "cell_type": "code",
   "execution_count": 21,
   "id": "successful-egyptian",
   "metadata": {},
   "outputs": [
    {
     "data": {
      "text/html": [
       "<div>\n",
       "<style scoped>\n",
       "    .dataframe tbody tr th:only-of-type {\n",
       "        vertical-align: middle;\n",
       "    }\n",
       "\n",
       "    .dataframe tbody tr th {\n",
       "        vertical-align: top;\n",
       "    }\n",
       "\n",
       "    .dataframe thead th {\n",
       "        text-align: right;\n",
       "    }\n",
       "</style>\n",
       "<table border=\"1\" class=\"dataframe\">\n",
       "  <thead>\n",
       "    <tr style=\"text-align: right;\">\n",
       "      <th></th>\n",
       "      <th>mean</th>\n",
       "      <th>std</th>\n",
       "    </tr>\n",
       "    <tr>\n",
       "      <th>sample_percent</th>\n",
       "      <th></th>\n",
       "      <th></th>\n",
       "    </tr>\n",
       "  </thead>\n",
       "  <tbody>\n",
       "    <tr>\n",
       "      <th>0.1</th>\n",
       "      <td>39.450197</td>\n",
       "      <td>0.000000</td>\n",
       "    </tr>\n",
       "    <tr>\n",
       "      <th>0.5</th>\n",
       "      <td>5.694745</td>\n",
       "      <td>0.625304</td>\n",
       "    </tr>\n",
       "    <tr>\n",
       "      <th>1.0</th>\n",
       "      <td>6.815121</td>\n",
       "      <td>0.092757</td>\n",
       "    </tr>\n",
       "    <tr>\n",
       "      <th>5.0</th>\n",
       "      <td>1.434143</td>\n",
       "      <td>0.009969</td>\n",
       "    </tr>\n",
       "    <tr>\n",
       "      <th>10.0</th>\n",
       "      <td>0.855947</td>\n",
       "      <td>0.004779</td>\n",
       "    </tr>\n",
       "    <tr>\n",
       "      <th>25.0</th>\n",
       "      <td>0.517484</td>\n",
       "      <td>0.001702</td>\n",
       "    </tr>\n",
       "  </tbody>\n",
       "</table>\n",
       "</div>"
      ],
      "text/plain": [
       "                     mean       std\n",
       "sample_percent                     \n",
       "0.1             39.450197  0.000000\n",
       "0.5              5.694745  0.625304\n",
       "1.0              6.815121  0.092757\n",
       "5.0              1.434143  0.009969\n",
       "10.0             0.855947  0.004779\n",
       "25.0             0.517484  0.001702"
      ]
     },
     "execution_count": 21,
     "metadata": {},
     "output_type": "execute_result"
    }
   ],
   "source": [
    "df_result.groupby('sample_percent').agg(['mean', 'std'])['mse']"
   ]
  },
  {
   "cell_type": "code",
   "execution_count": 22,
   "id": "excited-authority",
   "metadata": {},
   "outputs": [],
   "source": [
    "df_result.groupby('sample_percent').agg(['mean', 'std'])['mse'].to_csv('badsubset.csv')"
   ]
  },
  {
   "cell_type": "code",
   "execution_count": null,
   "id": "cordless-purchase",
   "metadata": {},
   "outputs": [],
   "source": []
  }
 ],
 "metadata": {
  "kernelspec": {
   "display_name": "ws-cardinality",
   "language": "python",
   "name": "ws-cardinality"
  },
  "language_info": {
   "codemirror_mode": {
    "name": "ipython",
    "version": 3
   },
   "file_extension": ".py",
   "mimetype": "text/x-python",
   "name": "python",
   "nbconvert_exporter": "python",
   "pygments_lexer": "ipython3",
   "version": "3.6.8"
  }
 },
 "nbformat": 4,
 "nbformat_minor": 5
}
