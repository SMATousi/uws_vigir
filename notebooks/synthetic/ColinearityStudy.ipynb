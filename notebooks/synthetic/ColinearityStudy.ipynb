{
 "cells": [
  {
   "cell_type": "markdown",
   "metadata": {},
   "source": [
    "# Comparison of weighted Kemeny with different training methods"
   ]
  },
  {
   "cell_type": "code",
   "execution_count": 1,
   "metadata": {},
   "outputs": [],
   "source": [
    "%load_ext autoreload\n",
    "%autoreload 2\n",
    "import sys\n",
    "import os\n",
    "root_path = '../../'\n",
    "sys.path.append(os.path.join(root_path, 'code', 'core'))\n",
    "\n",
    "\n",
    "from ranking_utils import *\n",
    "from mallows import *\n",
    "from ws_ranking import *\n",
    "import numpy as np\n",
    "\n",
    "from synth_exp_utils import *\n",
    "import pickle\n",
    "\n",
    "import matplotlib\n",
    "import matplotlib.pyplot as plt\n",
    "plt.rc('axes', linewidth=2.5)\n",
    "matplotlib.rcParams['pdf.fonttype'] = 42\n",
    "matplotlib.rcParams['ps.fonttype'] = 42"
   ]
  },
  {
   "cell_type": "markdown",
   "metadata": {},
   "source": [
    "# Generate synthetic theta"
   ]
  },
  {
   "cell_type": "code",
   "execution_count": 2,
   "metadata": {},
   "outputs": [
    {
     "name": "stdout",
     "output_type": "stream",
     "text": [
      "[ 2  4  6  8 10 12 14 16 18]\n",
      "[0.15488135 0.17151894 0.16027634 0.15448832 0.14236548 0.16458941\n",
      " 0.14375872 0.1891773  0.19636628 0.13834415 4.37517511 3.58668476\n",
      " 3.70413368 4.77678991 2.21310817 2.2613879  2.06065519 4.49785954]\n"
     ]
    }
   ],
   "source": [
    "\n",
    "d=10\n",
    "n = 250\n",
    "max_m = 18\n",
    "\n",
    "np.random.seed(0)\n",
    "\n",
    "theta_star = np.zeros(18)\n",
    "\n",
    "theta_star[:10] = np.random.uniform(0.1,0.2,10)\n",
    "theta_star[10:] = np.random.uniform(2,5,8)\n",
    "\n",
    "lst_m = np.arange(2,19,2)\n",
    "print(lst_m)\n",
    "lst_out = []\n",
    "np.sort(theta_star)\n",
    "print(theta_star)\n",
    "np.random.shuffle(theta_star)"
   ]
  },
  {
   "cell_type": "markdown",
   "metadata": {},
   "source": [
    "# Run experiments"
   ]
  },
  {
   "cell_type": "code",
   "execution_count": 11,
   "metadata": {},
   "outputs": [],
   "source": [
    "\n",
    "Y = generate_true_rankings(d,n)\n",
    "L = sample_mallows_LFs(Y,max_m,theta_star)\n",
    "lfs = {}\n",
    "lst_D = get_pair_wise_dists(L)\n",
    "\n",
    "#theta_hat = estimate_theta(L)\n",
    "\n",
    "## Lines from estimate_theta\n",
    "d = len(L[0][0])\n",
    "m = len(L[0])\n",
    "r_utils = RankingUtils(d)\n",
    "wsr = WeakSupRanking(r_utils)\n",
    "conf = {\"train_method\":\"triplet_opt\"}\n",
    "\n",
    "# wsr.train(conf,L,m)\n",
    "## Lines from wsr.train\n",
    "n = len(L)  # the number of examples\n",
    "if conf['train_method'] == 'triplet' or conf['train_method'] == 'triplet_opt':\n",
    "    # TODO: handle the case when num LF  is not multiple of 3\n",
    "    expected_dists = np.zeros(m)\n",
    "    i = 0\n",
    "    order, D = wsr.order_LFs_on_correlation(L,m)\n",
    "\n",
    "    # solve 3 variable systems iteratively\n",
    "    while i < m-2:\n",
    "        l1, l2, l3 = order[i], order[i+1], order[i+2]\n",
    "        #ac3 = self.solve_triplet(L, l1, l2, l3, D)\n",
    "        ## Lines from ac3\n",
    "        mu_12 = D[l1][l2]\n",
    "        mu_23 = D[l2][l3]\n",
    "        mu_31 = D[l3][l1]\n",
    "\n",
    "        #ac3 = solve_3_var_system_sum(mu_12, mu_23, mu_31)\n",
    "        ## Lines from solve_3_var_system_sum\n",
    "        t = (mu_12 + mu_23 + mu_31) / 2\n",
    "        ac3 = [t-mu_23,t-mu_31,t-mu_12]\n",
    "        \n",
    "        expected_dists[l1] = ac3[0]\n",
    "        expected_dists[l2] = ac3[1]\n",
    "        expected_dists[l3] = ac3[2]\n",
    "\n",
    "        i += 3\n",
    "\n",
    "    if conf['train_method'] == 'triplet':\n",
    "        self.thetas = 1.0 / np.array(expected_dists)\n",
    "\n",
    "    elif conf['train_method'] == 'triplet_opt':\n",
    "        mlw = Mallows(r_utils, 1.0)\n",
    "        logger.info(\"expected_dists {}\".format(expected_dists))\n",
    "        wsr.thetas = np.array([mlw.estimate_theta(d, expected_dists[i])\n",
    "                                for i in range(len(expected_dists))])\n",
    "        wsr.thetas = wsr.thetas.clip(1e-1, 100)\n",
    "\n",
    "theta_hat = wsr.thetas\n",
    "\n",
    "lst_trial_out = []\n",
    "for m in lst_m:\n",
    "    lst_trial_out.append(run_kemeny_inferences(Y,L,theta_star,theta_hat,m, lst_D))\n",
    "o = collect_outs(lst_trial_out)"
   ]
  },
  {
   "cell_type": "code",
   "execution_count": 12,
   "metadata": {},
   "outputs": [
    {
     "data": {
      "text/plain": [
       "defaultdict(list,\n",
       "            {'lst_mean_kt_unwtd_kemeny': [0.022577777777777776,\n",
       "              0.01511111111111111,\n",
       "              0.007199999999999999,\n",
       "              0.0040888888888888884,\n",
       "              0.0017777777777777776,\n",
       "              0.000977777777777778,\n",
       "              0.0008888888888888888,\n",
       "              0.0014222222222222223,\n",
       "              0.00017777777777777779],\n",
       "             'lst_mean_kt_wtd_kemeny_opt': [0.006933333333333334,\n",
       "              0.006933333333333334,\n",
       "              0.0022222222222222222,\n",
       "              0.0014222222222222223,\n",
       "              0.00017777777777777779,\n",
       "              8.888888888888889e-05,\n",
       "              8.888888888888889e-05,\n",
       "              0.0,\n",
       "              0.0],\n",
       "             'lst_mean_kt_wtd_kemeny_hat': [0.006933333333333334,\n",
       "              0.006933333333333334,\n",
       "              0.0022222222222222222,\n",
       "              0.001511111111111111,\n",
       "              0.00017777777777777779,\n",
       "              8.888888888888889e-05,\n",
       "              0.0,\n",
       "              0.0,\n",
       "              0.0]})"
      ]
     },
     "execution_count": 12,
     "metadata": {},
     "output_type": "execute_result"
    }
   ],
   "source": [
    "o"
   ]
  },
  {
   "cell_type": "code",
   "execution_count": null,
   "metadata": {},
   "outputs": [],
   "source": []
  }
 ],
 "metadata": {
  "kernelspec": {
   "display_name": "Python 3",
   "language": "python",
   "name": "python3"
  },
  "language_info": {
   "codemirror_mode": {
    "name": "ipython",
    "version": 3
   },
   "file_extension": ".py",
   "mimetype": "text/x-python",
   "name": "python",
   "nbconvert_exporter": "python",
   "pygments_lexer": "ipython3",
   "version": "3.8.10"
  }
 },
 "nbformat": 4,
 "nbformat_minor": 4
}
